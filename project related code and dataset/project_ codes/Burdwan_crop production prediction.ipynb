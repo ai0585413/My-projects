{
  "nbformat": 4,
  "nbformat_minor": 0,
  "metadata": {
    "colab": {
      "provenance": []
    },
    "kernelspec": {
      "name": "python3",
      "display_name": "Python 3"
    },
    "language_info": {
      "name": "python"
    }
  },
  "cells": [
    {
      "cell_type": "code",
      "execution_count": 1,
      "metadata": {
        "id": "laltkNMJklGw"
      },
      "outputs": [],
      "source": [
        "import pandas as pd\n",
        "from sklearn.model_selection import train_test_split\n",
        "from sklearn.preprocessing import StandardScaler\n",
        "from scipy.stats import zscore\n",
        "import numpy as np\n",
        "from sklearn.ensemble import RandomForestRegressor\n",
        "from sklearn.multioutput import MultiOutputRegressor\n",
        "from xgboost import XGBRegressor\n",
        "from sklearn.svm import SVR\n",
        "from tensorflow.keras.models import Sequential\n",
        "from tensorflow.keras.layers import Dense, LSTM, Dropout\n",
        "from tensorflow.keras.optimizers import Adam\n"
      ]
    },
    {
      "cell_type": "code",
      "source": [
        "# Load dataset\n",
        "from google.colab import files\n",
        "uploaded = files.upload()\n",
        "\n"
      ],
      "metadata": {
        "colab": {
          "base_uri": "https://localhost:8080/",
          "height": 38
        },
        "id": "uFwlY5melNJV",
        "outputId": "715d1fd6-460e-480c-d949-5b3ab79dc622"
      },
      "execution_count": 97,
      "outputs": [
        {
          "output_type": "display_data",
          "data": {
            "text/plain": [
              "<IPython.core.display.HTML object>"
            ],
            "text/html": [
              "\n",
              "     <input type=\"file\" id=\"files-f391b2e8-bd76-4365-8636-ffe230dabe9b\" name=\"files[]\" multiple disabled\n",
              "        style=\"border:none\" />\n",
              "     <output id=\"result-f391b2e8-bd76-4365-8636-ffe230dabe9b\">\n",
              "      Upload widget is only available when the cell has been executed in the\n",
              "      current browser session. Please rerun this cell to enable.\n",
              "      </output>\n",
              "      <script>// Copyright 2017 Google LLC\n",
              "//\n",
              "// Licensed under the Apache License, Version 2.0 (the \"License\");\n",
              "// you may not use this file except in compliance with the License.\n",
              "// You may obtain a copy of the License at\n",
              "//\n",
              "//      http://www.apache.org/licenses/LICENSE-2.0\n",
              "//\n",
              "// Unless required by applicable law or agreed to in writing, software\n",
              "// distributed under the License is distributed on an \"AS IS\" BASIS,\n",
              "// WITHOUT WARRANTIES OR CONDITIONS OF ANY KIND, either express or implied.\n",
              "// See the License for the specific language governing permissions and\n",
              "// limitations under the License.\n",
              "\n",
              "/**\n",
              " * @fileoverview Helpers for google.colab Python module.\n",
              " */\n",
              "(function(scope) {\n",
              "function span(text, styleAttributes = {}) {\n",
              "  const element = document.createElement('span');\n",
              "  element.textContent = text;\n",
              "  for (const key of Object.keys(styleAttributes)) {\n",
              "    element.style[key] = styleAttributes[key];\n",
              "  }\n",
              "  return element;\n",
              "}\n",
              "\n",
              "// Max number of bytes which will be uploaded at a time.\n",
              "const MAX_PAYLOAD_SIZE = 100 * 1024;\n",
              "\n",
              "function _uploadFiles(inputId, outputId) {\n",
              "  const steps = uploadFilesStep(inputId, outputId);\n",
              "  const outputElement = document.getElementById(outputId);\n",
              "  // Cache steps on the outputElement to make it available for the next call\n",
              "  // to uploadFilesContinue from Python.\n",
              "  outputElement.steps = steps;\n",
              "\n",
              "  return _uploadFilesContinue(outputId);\n",
              "}\n",
              "\n",
              "// This is roughly an async generator (not supported in the browser yet),\n",
              "// where there are multiple asynchronous steps and the Python side is going\n",
              "// to poll for completion of each step.\n",
              "// This uses a Promise to block the python side on completion of each step,\n",
              "// then passes the result of the previous step as the input to the next step.\n",
              "function _uploadFilesContinue(outputId) {\n",
              "  const outputElement = document.getElementById(outputId);\n",
              "  const steps = outputElement.steps;\n",
              "\n",
              "  const next = steps.next(outputElement.lastPromiseValue);\n",
              "  return Promise.resolve(next.value.promise).then((value) => {\n",
              "    // Cache the last promise value to make it available to the next\n",
              "    // step of the generator.\n",
              "    outputElement.lastPromiseValue = value;\n",
              "    return next.value.response;\n",
              "  });\n",
              "}\n",
              "\n",
              "/**\n",
              " * Generator function which is called between each async step of the upload\n",
              " * process.\n",
              " * @param {string} inputId Element ID of the input file picker element.\n",
              " * @param {string} outputId Element ID of the output display.\n",
              " * @return {!Iterable<!Object>} Iterable of next steps.\n",
              " */\n",
              "function* uploadFilesStep(inputId, outputId) {\n",
              "  const inputElement = document.getElementById(inputId);\n",
              "  inputElement.disabled = false;\n",
              "\n",
              "  const outputElement = document.getElementById(outputId);\n",
              "  outputElement.innerHTML = '';\n",
              "\n",
              "  const pickedPromise = new Promise((resolve) => {\n",
              "    inputElement.addEventListener('change', (e) => {\n",
              "      resolve(e.target.files);\n",
              "    });\n",
              "  });\n",
              "\n",
              "  const cancel = document.createElement('button');\n",
              "  inputElement.parentElement.appendChild(cancel);\n",
              "  cancel.textContent = 'Cancel upload';\n",
              "  const cancelPromise = new Promise((resolve) => {\n",
              "    cancel.onclick = () => {\n",
              "      resolve(null);\n",
              "    };\n",
              "  });\n",
              "\n",
              "  // Wait for the user to pick the files.\n",
              "  const files = yield {\n",
              "    promise: Promise.race([pickedPromise, cancelPromise]),\n",
              "    response: {\n",
              "      action: 'starting',\n",
              "    }\n",
              "  };\n",
              "\n",
              "  cancel.remove();\n",
              "\n",
              "  // Disable the input element since further picks are not allowed.\n",
              "  inputElement.disabled = true;\n",
              "\n",
              "  if (!files) {\n",
              "    return {\n",
              "      response: {\n",
              "        action: 'complete',\n",
              "      }\n",
              "    };\n",
              "  }\n",
              "\n",
              "  for (const file of files) {\n",
              "    const li = document.createElement('li');\n",
              "    li.append(span(file.name, {fontWeight: 'bold'}));\n",
              "    li.append(span(\n",
              "        `(${file.type || 'n/a'}) - ${file.size} bytes, ` +\n",
              "        `last modified: ${\n",
              "            file.lastModifiedDate ? file.lastModifiedDate.toLocaleDateString() :\n",
              "                                    'n/a'} - `));\n",
              "    const percent = span('0% done');\n",
              "    li.appendChild(percent);\n",
              "\n",
              "    outputElement.appendChild(li);\n",
              "\n",
              "    const fileDataPromise = new Promise((resolve) => {\n",
              "      const reader = new FileReader();\n",
              "      reader.onload = (e) => {\n",
              "        resolve(e.target.result);\n",
              "      };\n",
              "      reader.readAsArrayBuffer(file);\n",
              "    });\n",
              "    // Wait for the data to be ready.\n",
              "    let fileData = yield {\n",
              "      promise: fileDataPromise,\n",
              "      response: {\n",
              "        action: 'continue',\n",
              "      }\n",
              "    };\n",
              "\n",
              "    // Use a chunked sending to avoid message size limits. See b/62115660.\n",
              "    let position = 0;\n",
              "    do {\n",
              "      const length = Math.min(fileData.byteLength - position, MAX_PAYLOAD_SIZE);\n",
              "      const chunk = new Uint8Array(fileData, position, length);\n",
              "      position += length;\n",
              "\n",
              "      const base64 = btoa(String.fromCharCode.apply(null, chunk));\n",
              "      yield {\n",
              "        response: {\n",
              "          action: 'append',\n",
              "          file: file.name,\n",
              "          data: base64,\n",
              "        },\n",
              "      };\n",
              "\n",
              "      let percentDone = fileData.byteLength === 0 ?\n",
              "          100 :\n",
              "          Math.round((position / fileData.byteLength) * 100);\n",
              "      percent.textContent = `${percentDone}% done`;\n",
              "\n",
              "    } while (position < fileData.byteLength);\n",
              "  }\n",
              "\n",
              "  // All done.\n",
              "  yield {\n",
              "    response: {\n",
              "      action: 'complete',\n",
              "    }\n",
              "  };\n",
              "}\n",
              "\n",
              "scope.google = scope.google || {};\n",
              "scope.google.colab = scope.google.colab || {};\n",
              "scope.google.colab._files = {\n",
              "  _uploadFiles,\n",
              "  _uploadFilesContinue,\n",
              "};\n",
              "})(self);\n",
              "</script> "
            ]
          },
          "metadata": {}
        }
      ]
    },
    {
      "cell_type": "code",
      "source": [
        "climate_data = pd.read_csv(\"Burdwan_Crop.csv\")"
      ],
      "metadata": {
        "id": "ufFLF-g0mfwa"
      },
      "execution_count": 98,
      "outputs": []
    },
    {
      "cell_type": "code",
      "source": [
        "# Step 1: Drop redundant columns\n",
        "climate_data = climate_data.drop(columns=[\"State_Name\", \"District_Name\"])\n"
      ],
      "metadata": {
        "id": "d0Qe8IxPlUGr"
      },
      "execution_count": 99,
      "outputs": []
    },
    {
      "cell_type": "code",
      "source": [
        "# Step 2: Data Cleaning\n",
        "# Check for missing values and duplicates\n",
        "print(\"Missing Values:\\n\", climate_data.isnull().sum())\n",
        "print(\"Duplicates:\", climate_data.duplicated().sum())"
      ],
      "metadata": {
        "colab": {
          "base_uri": "https://localhost:8080/"
        },
        "id": "V4oX-BCfmoKA",
        "outputId": "51ac6822-7686-4562-c83e-6ab55e129f03"
      },
      "execution_count": 100,
      "outputs": [
        {
          "output_type": "stream",
          "name": "stdout",
          "text": [
            "Missing Values:\n",
            " Crop_Year     0\n",
            "Season        0\n",
            "Crop          0\n",
            "Area          0\n",
            "Production    2\n",
            "Temparetue    0\n",
            "Rainfall      0\n",
            "Humidity      0\n",
            "Sun hours     0\n",
            "dtype: int64\n",
            "Duplicates: 0\n"
          ]
        }
      ]
    },
    {
      "cell_type": "code",
      "source": [
        "from sklearn.preprocessing import LabelEncoder\n",
        "\n",
        "# Initialize the LabelEncoder\n",
        "label_encoder = LabelEncoder()\n",
        "\n",
        "# Apply Label Encoding to 'Season' and 'Crop' columns\n",
        "climate_data['Season'] = label_encoder.fit_transform(climate_data['Season'])\n",
        "climate_data['Crop'] = label_encoder.fit_transform(climate_data['Crop'])\n"
      ],
      "metadata": {
        "id": "_q_imjUDmr-Q"
      },
      "execution_count": 101,
      "outputs": []
    },
    {
      "cell_type": "code",
      "source": [
        "climate_data.head()"
      ],
      "metadata": {
        "colab": {
          "base_uri": "https://localhost:8080/",
          "height": 206
        },
        "id": "ydYm00Jf_LP_",
        "outputId": "eeaf0e12-dafa-4c58-83ad-c499203cd293"
      },
      "execution_count": 102,
      "outputs": [
        {
          "output_type": "execute_result",
          "data": {
            "text/plain": [
              "   Crop_Year  Season  Crop   Area  Production  Temparetue  Rainfall  Humidity  \\\n",
              "0       2009       1    23  17119     52128.0        22.1       341      81.0   \n",
              "1       2009       2     6    128       226.0        26.9      1189      80.0   \n",
              "2       2009       2    11  12459    222721.0        26.9      1189      80.0   \n",
              "3       2009       2    14    147       254.0        26.9      1189      80.0   \n",
              "4       2009       2    16     88        46.0        26.9      1189      80.0   \n",
              "\n",
              "   Sun hours  \n",
              "0        8.1  \n",
              "1        8.2  \n",
              "2        8.2  \n",
              "3        8.2  \n",
              "4        8.2  "
            ],
            "text/html": [
              "\n",
              "  <div id=\"df-676f452c-641b-4ac0-959c-85b8a77fc047\" class=\"colab-df-container\">\n",
              "    <div>\n",
              "<style scoped>\n",
              "    .dataframe tbody tr th:only-of-type {\n",
              "        vertical-align: middle;\n",
              "    }\n",
              "\n",
              "    .dataframe tbody tr th {\n",
              "        vertical-align: top;\n",
              "    }\n",
              "\n",
              "    .dataframe thead th {\n",
              "        text-align: right;\n",
              "    }\n",
              "</style>\n",
              "<table border=\"1\" class=\"dataframe\">\n",
              "  <thead>\n",
              "    <tr style=\"text-align: right;\">\n",
              "      <th></th>\n",
              "      <th>Crop_Year</th>\n",
              "      <th>Season</th>\n",
              "      <th>Crop</th>\n",
              "      <th>Area</th>\n",
              "      <th>Production</th>\n",
              "      <th>Temparetue</th>\n",
              "      <th>Rainfall</th>\n",
              "      <th>Humidity</th>\n",
              "      <th>Sun hours</th>\n",
              "    </tr>\n",
              "  </thead>\n",
              "  <tbody>\n",
              "    <tr>\n",
              "      <th>0</th>\n",
              "      <td>2009</td>\n",
              "      <td>1</td>\n",
              "      <td>23</td>\n",
              "      <td>17119</td>\n",
              "      <td>52128.0</td>\n",
              "      <td>22.1</td>\n",
              "      <td>341</td>\n",
              "      <td>81.0</td>\n",
              "      <td>8.1</td>\n",
              "    </tr>\n",
              "    <tr>\n",
              "      <th>1</th>\n",
              "      <td>2009</td>\n",
              "      <td>2</td>\n",
              "      <td>6</td>\n",
              "      <td>128</td>\n",
              "      <td>226.0</td>\n",
              "      <td>26.9</td>\n",
              "      <td>1189</td>\n",
              "      <td>80.0</td>\n",
              "      <td>8.2</td>\n",
              "    </tr>\n",
              "    <tr>\n",
              "      <th>2</th>\n",
              "      <td>2009</td>\n",
              "      <td>2</td>\n",
              "      <td>11</td>\n",
              "      <td>12459</td>\n",
              "      <td>222721.0</td>\n",
              "      <td>26.9</td>\n",
              "      <td>1189</td>\n",
              "      <td>80.0</td>\n",
              "      <td>8.2</td>\n",
              "    </tr>\n",
              "    <tr>\n",
              "      <th>3</th>\n",
              "      <td>2009</td>\n",
              "      <td>2</td>\n",
              "      <td>14</td>\n",
              "      <td>147</td>\n",
              "      <td>254.0</td>\n",
              "      <td>26.9</td>\n",
              "      <td>1189</td>\n",
              "      <td>80.0</td>\n",
              "      <td>8.2</td>\n",
              "    </tr>\n",
              "    <tr>\n",
              "      <th>4</th>\n",
              "      <td>2009</td>\n",
              "      <td>2</td>\n",
              "      <td>16</td>\n",
              "      <td>88</td>\n",
              "      <td>46.0</td>\n",
              "      <td>26.9</td>\n",
              "      <td>1189</td>\n",
              "      <td>80.0</td>\n",
              "      <td>8.2</td>\n",
              "    </tr>\n",
              "  </tbody>\n",
              "</table>\n",
              "</div>\n",
              "    <div class=\"colab-df-buttons\">\n",
              "\n",
              "  <div class=\"colab-df-container\">\n",
              "    <button class=\"colab-df-convert\" onclick=\"convertToInteractive('df-676f452c-641b-4ac0-959c-85b8a77fc047')\"\n",
              "            title=\"Convert this dataframe to an interactive table.\"\n",
              "            style=\"display:none;\">\n",
              "\n",
              "  <svg xmlns=\"http://www.w3.org/2000/svg\" height=\"24px\" viewBox=\"0 -960 960 960\">\n",
              "    <path d=\"M120-120v-720h720v720H120Zm60-500h600v-160H180v160Zm220 220h160v-160H400v160Zm0 220h160v-160H400v160ZM180-400h160v-160H180v160Zm440 0h160v-160H620v160ZM180-180h160v-160H180v160Zm440 0h160v-160H620v160Z\"/>\n",
              "  </svg>\n",
              "    </button>\n",
              "\n",
              "  <style>\n",
              "    .colab-df-container {\n",
              "      display:flex;\n",
              "      gap: 12px;\n",
              "    }\n",
              "\n",
              "    .colab-df-convert {\n",
              "      background-color: #E8F0FE;\n",
              "      border: none;\n",
              "      border-radius: 50%;\n",
              "      cursor: pointer;\n",
              "      display: none;\n",
              "      fill: #1967D2;\n",
              "      height: 32px;\n",
              "      padding: 0 0 0 0;\n",
              "      width: 32px;\n",
              "    }\n",
              "\n",
              "    .colab-df-convert:hover {\n",
              "      background-color: #E2EBFA;\n",
              "      box-shadow: 0px 1px 2px rgba(60, 64, 67, 0.3), 0px 1px 3px 1px rgba(60, 64, 67, 0.15);\n",
              "      fill: #174EA6;\n",
              "    }\n",
              "\n",
              "    .colab-df-buttons div {\n",
              "      margin-bottom: 4px;\n",
              "    }\n",
              "\n",
              "    [theme=dark] .colab-df-convert {\n",
              "      background-color: #3B4455;\n",
              "      fill: #D2E3FC;\n",
              "    }\n",
              "\n",
              "    [theme=dark] .colab-df-convert:hover {\n",
              "      background-color: #434B5C;\n",
              "      box-shadow: 0px 1px 3px 1px rgba(0, 0, 0, 0.15);\n",
              "      filter: drop-shadow(0px 1px 2px rgba(0, 0, 0, 0.3));\n",
              "      fill: #FFFFFF;\n",
              "    }\n",
              "  </style>\n",
              "\n",
              "    <script>\n",
              "      const buttonEl =\n",
              "        document.querySelector('#df-676f452c-641b-4ac0-959c-85b8a77fc047 button.colab-df-convert');\n",
              "      buttonEl.style.display =\n",
              "        google.colab.kernel.accessAllowed ? 'block' : 'none';\n",
              "\n",
              "      async function convertToInteractive(key) {\n",
              "        const element = document.querySelector('#df-676f452c-641b-4ac0-959c-85b8a77fc047');\n",
              "        const dataTable =\n",
              "          await google.colab.kernel.invokeFunction('convertToInteractive',\n",
              "                                                    [key], {});\n",
              "        if (!dataTable) return;\n",
              "\n",
              "        const docLinkHtml = 'Like what you see? Visit the ' +\n",
              "          '<a target=\"_blank\" href=https://colab.research.google.com/notebooks/data_table.ipynb>data table notebook</a>'\n",
              "          + ' to learn more about interactive tables.';\n",
              "        element.innerHTML = '';\n",
              "        dataTable['output_type'] = 'display_data';\n",
              "        await google.colab.output.renderOutput(dataTable, element);\n",
              "        const docLink = document.createElement('div');\n",
              "        docLink.innerHTML = docLinkHtml;\n",
              "        element.appendChild(docLink);\n",
              "      }\n",
              "    </script>\n",
              "  </div>\n",
              "\n",
              "\n",
              "<div id=\"df-cab2b183-23df-40f9-9aa5-b7a657b24252\">\n",
              "  <button class=\"colab-df-quickchart\" onclick=\"quickchart('df-cab2b183-23df-40f9-9aa5-b7a657b24252')\"\n",
              "            title=\"Suggest charts\"\n",
              "            style=\"display:none;\">\n",
              "\n",
              "<svg xmlns=\"http://www.w3.org/2000/svg\" height=\"24px\"viewBox=\"0 0 24 24\"\n",
              "     width=\"24px\">\n",
              "    <g>\n",
              "        <path d=\"M19 3H5c-1.1 0-2 .9-2 2v14c0 1.1.9 2 2 2h14c1.1 0 2-.9 2-2V5c0-1.1-.9-2-2-2zM9 17H7v-7h2v7zm4 0h-2V7h2v10zm4 0h-2v-4h2v4z\"/>\n",
              "    </g>\n",
              "</svg>\n",
              "  </button>\n",
              "\n",
              "<style>\n",
              "  .colab-df-quickchart {\n",
              "      --bg-color: #E8F0FE;\n",
              "      --fill-color: #1967D2;\n",
              "      --hover-bg-color: #E2EBFA;\n",
              "      --hover-fill-color: #174EA6;\n",
              "      --disabled-fill-color: #AAA;\n",
              "      --disabled-bg-color: #DDD;\n",
              "  }\n",
              "\n",
              "  [theme=dark] .colab-df-quickchart {\n",
              "      --bg-color: #3B4455;\n",
              "      --fill-color: #D2E3FC;\n",
              "      --hover-bg-color: #434B5C;\n",
              "      --hover-fill-color: #FFFFFF;\n",
              "      --disabled-bg-color: #3B4455;\n",
              "      --disabled-fill-color: #666;\n",
              "  }\n",
              "\n",
              "  .colab-df-quickchart {\n",
              "    background-color: var(--bg-color);\n",
              "    border: none;\n",
              "    border-radius: 50%;\n",
              "    cursor: pointer;\n",
              "    display: none;\n",
              "    fill: var(--fill-color);\n",
              "    height: 32px;\n",
              "    padding: 0;\n",
              "    width: 32px;\n",
              "  }\n",
              "\n",
              "  .colab-df-quickchart:hover {\n",
              "    background-color: var(--hover-bg-color);\n",
              "    box-shadow: 0 1px 2px rgba(60, 64, 67, 0.3), 0 1px 3px 1px rgba(60, 64, 67, 0.15);\n",
              "    fill: var(--button-hover-fill-color);\n",
              "  }\n",
              "\n",
              "  .colab-df-quickchart-complete:disabled,\n",
              "  .colab-df-quickchart-complete:disabled:hover {\n",
              "    background-color: var(--disabled-bg-color);\n",
              "    fill: var(--disabled-fill-color);\n",
              "    box-shadow: none;\n",
              "  }\n",
              "\n",
              "  .colab-df-spinner {\n",
              "    border: 2px solid var(--fill-color);\n",
              "    border-color: transparent;\n",
              "    border-bottom-color: var(--fill-color);\n",
              "    animation:\n",
              "      spin 1s steps(1) infinite;\n",
              "  }\n",
              "\n",
              "  @keyframes spin {\n",
              "    0% {\n",
              "      border-color: transparent;\n",
              "      border-bottom-color: var(--fill-color);\n",
              "      border-left-color: var(--fill-color);\n",
              "    }\n",
              "    20% {\n",
              "      border-color: transparent;\n",
              "      border-left-color: var(--fill-color);\n",
              "      border-top-color: var(--fill-color);\n",
              "    }\n",
              "    30% {\n",
              "      border-color: transparent;\n",
              "      border-left-color: var(--fill-color);\n",
              "      border-top-color: var(--fill-color);\n",
              "      border-right-color: var(--fill-color);\n",
              "    }\n",
              "    40% {\n",
              "      border-color: transparent;\n",
              "      border-right-color: var(--fill-color);\n",
              "      border-top-color: var(--fill-color);\n",
              "    }\n",
              "    60% {\n",
              "      border-color: transparent;\n",
              "      border-right-color: var(--fill-color);\n",
              "    }\n",
              "    80% {\n",
              "      border-color: transparent;\n",
              "      border-right-color: var(--fill-color);\n",
              "      border-bottom-color: var(--fill-color);\n",
              "    }\n",
              "    90% {\n",
              "      border-color: transparent;\n",
              "      border-bottom-color: var(--fill-color);\n",
              "    }\n",
              "  }\n",
              "</style>\n",
              "\n",
              "  <script>\n",
              "    async function quickchart(key) {\n",
              "      const quickchartButtonEl =\n",
              "        document.querySelector('#' + key + ' button');\n",
              "      quickchartButtonEl.disabled = true;  // To prevent multiple clicks.\n",
              "      quickchartButtonEl.classList.add('colab-df-spinner');\n",
              "      try {\n",
              "        const charts = await google.colab.kernel.invokeFunction(\n",
              "            'suggestCharts', [key], {});\n",
              "      } catch (error) {\n",
              "        console.error('Error during call to suggestCharts:', error);\n",
              "      }\n",
              "      quickchartButtonEl.classList.remove('colab-df-spinner');\n",
              "      quickchartButtonEl.classList.add('colab-df-quickchart-complete');\n",
              "    }\n",
              "    (() => {\n",
              "      let quickchartButtonEl =\n",
              "        document.querySelector('#df-cab2b183-23df-40f9-9aa5-b7a657b24252 button');\n",
              "      quickchartButtonEl.style.display =\n",
              "        google.colab.kernel.accessAllowed ? 'block' : 'none';\n",
              "    })();\n",
              "  </script>\n",
              "</div>\n",
              "\n",
              "    </div>\n",
              "  </div>\n"
            ],
            "application/vnd.google.colaboratory.intrinsic+json": {
              "type": "dataframe",
              "variable_name": "climate_data",
              "summary": "{\n  \"name\": \"climate_data\",\n  \"rows\": 354,\n  \"fields\": [\n    {\n      \"column\": \"Crop_Year\",\n      \"properties\": {\n        \"dtype\": \"number\",\n        \"std\": 3,\n        \"min\": 2009,\n        \"max\": 2019,\n        \"num_unique_values\": 11,\n        \"samples\": [\n          2014,\n          2009,\n          2018\n        ],\n        \"semantic_type\": \"\",\n        \"description\": \"\"\n      }\n    },\n    {\n      \"column\": \"Season\",\n      \"properties\": {\n        \"dtype\": \"number\",\n        \"std\": 1,\n        \"min\": 0,\n        \"max\": 5,\n        \"num_unique_values\": 6,\n        \"samples\": [\n          1,\n          2,\n          5\n        ],\n        \"semantic_type\": \"\",\n        \"description\": \"\"\n      }\n    },\n    {\n      \"column\": \"Crop\",\n      \"properties\": {\n        \"dtype\": \"number\",\n        \"std\": 8,\n        \"min\": 0,\n        \"max\": 32,\n        \"num_unique_values\": 33,\n        \"samples\": [\n          2,\n          24,\n          4\n        ],\n        \"semantic_type\": \"\",\n        \"description\": \"\"\n      }\n    },\n    {\n      \"column\": \"Area\",\n      \"properties\": {\n        \"dtype\": \"number\",\n        \"std\": 78358,\n        \"min\": 1,\n        \"max\": 429698,\n        \"num_unique_values\": 259,\n        \"samples\": [\n          35,\n          29182,\n          63\n        ],\n        \"semantic_type\": \"\",\n        \"description\": \"\"\n      }\n    },\n    {\n      \"column\": \"Production\",\n      \"properties\": {\n        \"dtype\": \"number\",\n        \"std\": 1850577.5698710675,\n        \"min\": 1.0,\n        \"max\": 30922000.0,\n        \"num_unique_values\": 266,\n        \"samples\": [\n          30638.0,\n          297.0,\n          35141.0\n        ],\n        \"semantic_type\": \"\",\n        \"description\": \"\"\n      }\n    },\n    {\n      \"column\": \"Temparetue\",\n      \"properties\": {\n        \"dtype\": \"number\",\n        \"std\": 4.545371013865285,\n        \"min\": 17.2,\n        \"max\": 36.4,\n        \"num_unique_values\": 57,\n        \"samples\": [\n          22.1,\n          19.1,\n          35.4\n        ],\n        \"semantic_type\": \"\",\n        \"description\": \"\"\n      }\n    },\n    {\n      \"column\": \"Rainfall\",\n      \"properties\": {\n        \"dtype\": \"number\",\n        \"std\": 553,\n        \"min\": 42,\n        \"max\": 1623,\n        \"num_unique_values\": 58,\n        \"samples\": [\n          341,\n          46,\n          1623\n        ],\n        \"semantic_type\": \"\",\n        \"description\": \"\"\n      }\n    },\n    {\n      \"column\": \"Humidity\",\n      \"properties\": {\n        \"dtype\": \"number\",\n        \"std\": 9.305841474063703,\n        \"min\": 53.0,\n        \"max\": 83.6,\n        \"num_unique_values\": 38,\n        \"samples\": [\n          80.23,\n          83.6,\n          78.38\n        ],\n        \"semantic_type\": \"\",\n        \"description\": \"\"\n      }\n    },\n    {\n      \"column\": \"Sun hours\",\n      \"properties\": {\n        \"dtype\": \"number\",\n        \"std\": 0.5113159381170571,\n        \"min\": 7.9,\n        \"max\": 10.1,\n        \"num_unique_values\": 30,\n        \"samples\": [\n          8.43,\n          8.6,\n          8.16\n        ],\n        \"semantic_type\": \"\",\n        \"description\": \"\"\n      }\n    }\n  ]\n}"
            }
          },
          "metadata": {},
          "execution_count": 102
        }
      ]
    },
    {
      "cell_type": "code",
      "source": [
        "from sklearn.impute import KNNImputer\n",
        "\n",
        "imputer = KNNImputer(n_neighbors=3)\n",
        "climate_data = pd.DataFrame(imputer.fit_transform(climate_data), columns=climate_data.columns)"
      ],
      "metadata": {
        "id": "8JMoaNcZm0Pp"
      },
      "execution_count": 103,
      "outputs": []
    },
    {
      "cell_type": "code",
      "source": [
        "from scipy.stats import zscore\n",
        "# Outlier Removal (Z-Score Method)\n",
        "def remove_outliers_zscore(df, threshold=3):\n",
        "    z_scores = np.abs(zscore(df))\n",
        "    return df[(z_scores < threshold).all(axis=1)]\n",
        "\n",
        "# Apply the Z-score method for outlier removal on the 'Temparetue' and 'Rainfall' columns\n",
        "climate_data_cleaned_zscore = remove_outliers_zscore(climate_data[['Temparetue', 'Rainfall', 'Humidity', 'Sun hours']])"
      ],
      "metadata": {
        "id": "qPBsXaiOMDnM"
      },
      "execution_count": 104,
      "outputs": []
    },
    {
      "cell_type": "code",
      "source": [
        "# Step 3: Normalize numerical features\n",
        "scaler = StandardScaler()\n",
        "numerical_columns = [\"Area\", \"Temparetue\", \"Rainfall\", \"Humidity\", \"Sun hours\"]\n",
        "climate_data[numerical_columns] = scaler.fit_transform(climate_data[numerical_columns])\n"
      ],
      "metadata": {
        "id": "VUAkVosnm8Ra"
      },
      "execution_count": 105,
      "outputs": []
    },
    {
      "cell_type": "code",
      "source": [
        "print(climate_data.dtypes)\n"
      ],
      "metadata": {
        "colab": {
          "base_uri": "https://localhost:8080/"
        },
        "id": "Rv1TcgruDOr9",
        "outputId": "63545292-0085-4486-9eea-17f6b341aed9"
      },
      "execution_count": 106,
      "outputs": [
        {
          "output_type": "stream",
          "name": "stdout",
          "text": [
            "Crop_Year     float64\n",
            "Season        float64\n",
            "Crop          float64\n",
            "Area          float64\n",
            "Production    float64\n",
            "Temparetue    float64\n",
            "Rainfall      float64\n",
            "Humidity      float64\n",
            "Sun hours     float64\n",
            "dtype: object\n"
          ]
        }
      ]
    },
    {
      "cell_type": "code",
      "source": [
        "# Step 4: Feature engineering (Production Density and Climatic Index)\n",
        "climate_data[\"Production_density\"] = climate_data[\"Production\"] / climate_data[\"Area\"].replace(0, np.nan)\n",
        "climate_data[\"Climatic_Index\"] = (\n",
        "    climate_data[\"Temparetue\"] * climate_data[\"Humidity\"] / climate_data[\"Rainfall\"].replace(0, np.nan)\n",
        ")"
      ],
      "metadata": {
        "id": "mVsxnBq9nA87"
      },
      "execution_count": 107,
      "outputs": []
    },
    {
      "cell_type": "code",
      "source": [
        "# Step 6: Separate features and target variable\n",
        "X = climate_data.drop(columns=[\"Production\",])\n",
        "y = climate_data[\"Production\"]"
      ],
      "metadata": {
        "id": "Xl3OBhtfnqGt"
      },
      "execution_count": 108,
      "outputs": []
    },
    {
      "cell_type": "code",
      "source": [
        "# Step 7: Split the data into training and testing sets\n",
        "from sklearn.model_selection import train_test_split\n",
        "\n",
        "X_train, X_test, y_train, y_test = train_test_split(X, y, test_size=0.2, random_state=42)\n",
        "\n",
        "# Step 8: Train and evaluate Linear Regression model\n",
        "from sklearn.linear_model import LinearRegression\n",
        "from sklearn.metrics import mean_squared_error, mean_absolute_error, r2_score\n",
        "\n",
        "# Initialize the Linear Regression model\n",
        "linear_regressor = LinearRegression()\n",
        "\n",
        "# Train the model\n",
        "linear_regressor.fit(X_train, y_train)\n",
        "\n",
        "# Predict on test set\n",
        "y_pred_linear = linear_regressor.predict(X_test)\n",
        "\n",
        "# Evaluate the Linear Regression model\n",
        "print(\"Linear Regression Evaluation:\")\n",
        "print(\"Mean Absolute Error:\", mean_absolute_error(y_test, y_pred_linear))\n",
        "print(\"Mean Squared Error:\", mean_squared_error(y_test, y_pred_linear))\n",
        "print(\"R-squared:\", r2_score(y_test, y_pred_linear))"
      ],
      "metadata": {
        "colab": {
          "base_uri": "https://localhost:8080/"
        },
        "id": "H4Ml3kkon1ok",
        "outputId": "5376f296-8a05-4bbf-b699-94a5f468d93e"
      },
      "execution_count": 109,
      "outputs": [
        {
          "output_type": "stream",
          "name": "stdout",
          "text": [
            "Linear Regression Evaluation:\n",
            "Mean Absolute Error: 202217.44188138738\n",
            "Mean Squared Error: 248616560346.29703\n",
            "R-squared: 0.9813004668785457\n"
          ]
        }
      ]
    },
    {
      "cell_type": "code",
      "source": [
        "# Step 6: Separate features and target variable\n",
        "X = climate_data.drop(columns=[\"Production\", \"Production_density\"])\n",
        "y = climate_data[\"Production\"]"
      ],
      "metadata": {
        "id": "WdP4796EoUB1"
      },
      "execution_count": 110,
      "outputs": []
    },
    {
      "cell_type": "code",
      "source": [
        "# Step 9: Train and evaluate Random Forest Regressor\n",
        "from sklearn.ensemble import RandomForestRegressor\n",
        "\n",
        "# Initialize the Random Forest model\n",
        "rf_regressor = RandomForestRegressor(n_estimators=100, random_state=42)\n",
        "\n",
        "# Train the model\n",
        "rf_regressor.fit(X_train, y_train)\n",
        "\n",
        "# Predict on test set\n",
        "y_pred_rf = rf_regressor.predict(X_test)\n",
        "\n",
        "# Evaluate the Random Forest model\n",
        "print(\"\\nRandom Forest Regressor Evaluation:\")\n",
        "print(\"Mean Absolute Error:\", mean_absolute_error(y_test, y_pred_rf))\n",
        "print(\"Mean Squared Error:\", mean_squared_error(y_test, y_pred_rf))\n",
        "print(\"R-squared:\", r2_score(y_test, y_pred_rf))"
      ],
      "metadata": {
        "colab": {
          "base_uri": "https://localhost:8080/"
        },
        "id": "F_e4VZSkoLst",
        "outputId": "3dcfd508-bbb4-40b2-e71f-dde8ebd0ad07"
      },
      "execution_count": 111,
      "outputs": [
        {
          "output_type": "stream",
          "name": "stdout",
          "text": [
            "\n",
            "Random Forest Regressor Evaluation:\n",
            "Mean Absolute Error: 301436.67215962446\n",
            "Mean Squared Error: 5733536083914.033\n",
            "R-squared: 0.5687558071157219\n"
          ]
        }
      ]
    },
    {
      "cell_type": "code",
      "source": [
        "# Step 10: Train and evaluate Gradient Boosting Regressor\n",
        "from sklearn.ensemble import GradientBoostingRegressor\n",
        "\n",
        "# Initialize the Gradient Boosting model\n",
        "gb_regressor = GradientBoostingRegressor(n_estimators=100, random_state=42)\n",
        "\n",
        "# Train the model\n",
        "gb_regressor.fit(X_train, y_train)\n",
        "\n",
        "# Predict on test set\n",
        "y_pred_gb = gb_regressor.predict(X_test)\n",
        "\n",
        "# Evaluate the Gradient Boosting model\n",
        "print(\"\\nGradient Boosting Regressor Evaluation:\")\n",
        "print(\"Mean Absolute Error:\", mean_absolute_error(y_test, y_pred_gb))\n",
        "print(\"Mean Squared Error:\", mean_squared_error(y_test, y_pred_gb))\n",
        "print(\"R-squared:\", r2_score(y_test, y_pred_gb))"
      ],
      "metadata": {
        "colab": {
          "base_uri": "https://localhost:8080/"
        },
        "id": "NZMAOWVeouqA",
        "outputId": "99b509d4-ce1c-47d2-cd25-1aeb9f062af4"
      },
      "execution_count": 112,
      "outputs": [
        {
          "output_type": "stream",
          "name": "stdout",
          "text": [
            "\n",
            "Gradient Boosting Regressor Evaluation:\n",
            "Mean Absolute Error: 240589.7313207759\n",
            "Mean Squared Error: 3648328366547.827\n",
            "R-squared: 0.7255933513311567\n"
          ]
        }
      ]
    },
    {
      "cell_type": "code",
      "source": [
        "# Step 9: Train and evaluate Ridge Regression\n",
        "from sklearn.linear_model import Ridge\n",
        "\n",
        "# Initialize Ridge model\n",
        "ridge_regressor = Ridge(alpha=1.0)\n",
        "\n",
        "# Train the model\n",
        "ridge_regressor.fit(X_train, y_train)\n",
        "\n",
        "# Predict on test set\n",
        "y_pred_ridge = ridge_regressor.predict(X_test)\n",
        "\n",
        "# Evaluate the Ridge model\n",
        "print(\"\\nRidge Regression Evaluation:\")\n",
        "print(\"Mean Absolute Error:\", mean_absolute_error(y_test, y_pred_ridge))\n",
        "print(\"Mean Squared Error:\", mean_squared_error(y_test, y_pred_ridge))\n",
        "print(\"R-squared:\", r2_score(y_test, y_pred_ridge))\n"
      ],
      "metadata": {
        "colab": {
          "base_uri": "https://localhost:8080/"
        },
        "id": "cFlNNBsSpNlJ",
        "outputId": "82d8d566-a4fc-467d-c163-baee27087f00"
      },
      "execution_count": 113,
      "outputs": [
        {
          "output_type": "stream",
          "name": "stdout",
          "text": [
            "\n",
            "Ridge Regression Evaluation:\n",
            "Mean Absolute Error: 201756.03848632184\n",
            "Mean Squared Error: 249564261026.5072\n",
            "R-squared: 0.9812291861873715\n"
          ]
        }
      ]
    },
    {
      "cell_type": "code",
      "source": [
        "# Step 10: Train and evaluate Lasso Regression\n",
        "from sklearn.linear_model import Lasso\n",
        "\n",
        "# Initialize Lasso model\n",
        "lasso_regressor = Lasso(alpha=0.1)\n",
        "\n",
        "# Train the model\n",
        "lasso_regressor.fit(X_train, y_train)\n",
        "\n",
        "# Predict on test set\n",
        "y_pred_lasso = lasso_regressor.predict(X_test)\n",
        "\n",
        "# Evaluate the Lasso model\n",
        "print(\"\\nLasso Regression Evaluation:\")\n",
        "print(\"Mean Absolute Error:\", mean_absolute_error(y_test, y_pred_lasso))\n",
        "print(\"Mean Squared Error:\", mean_squared_error(y_test, y_pred_lasso))\n",
        "print(\"R-squared:\", r2_score(y_test, y_pred_lasso))"
      ],
      "metadata": {
        "colab": {
          "base_uri": "https://localhost:8080/"
        },
        "id": "jSpH4u6-pTSZ",
        "outputId": "59dc171b-93a2-4a57-be1d-0658dc2574d9"
      },
      "execution_count": 114,
      "outputs": [
        {
          "output_type": "stream",
          "name": "stdout",
          "text": [
            "\n",
            "Lasso Regression Evaluation:\n",
            "Mean Absolute Error: 202217.27375667365\n",
            "Mean Squared Error: 248616983369.59082\n",
            "R-squared: 0.9813004350611233\n"
          ]
        }
      ]
    }
  ]
}